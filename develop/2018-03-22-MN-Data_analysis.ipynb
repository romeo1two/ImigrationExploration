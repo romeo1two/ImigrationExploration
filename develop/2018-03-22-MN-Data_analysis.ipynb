{
 "cells": [
  {
   "cell_type": "markdown",
   "metadata": {},
   "source": [
    "# Data analysis with Python"
   ]
  },
  {
   "cell_type": "markdown",
   "metadata": {},
   "source": [
    "## Content:"
   ]
  },
  {
   "cell_type": "markdown",
   "metadata": {},
   "source": [
    "1 Introduction to Data Analysis with Python\n",
    "\n",
    "    1.01 The Problem\n",
    "    1.02 Understanding the Data\n",
    "    1.03 Python Packages for Data Science\n",
    "    1.04 Importing and Exporting Data in Python\n",
    "    1.05 Getting Started Analyzing Data in Python\n",
    "    \n",
    "2 Pre-processing Data in Python\n",
    "\n",
    "    2.01 Dealing with Missing Values in Python\n",
    "    2.02 Data Formatting in Python\n",
    "    2.03 Data Normalization in Python\n",
    "    2.04 Binning in Python\n",
    "    2.05 Indicator variables in Python\n",
    "    \n",
    "3 Exploratory Data Analysis\n",
    "\n",
    "    3.01 Descriptive Statistics\n",
    "    3.02 GroupBy in Python\n",
    "    3.03 Analysis of Variance (ANOVA)\n",
    "    3.04 Correlation\n",
    "    3.05 Correlation - Statistics\n",
    "    \n",
    "4 Linear Regression and Multiple Linear Regression\n",
    "\n",
    "    4.01 Model Evaluation using Visualization\n",
    "    4.02 Polynomial Regression and Pipelines\n",
    "    4.03 Measures for In-Sample Evaluation\n",
    "    4.04 Prediction and Decision Making\n",
    "    \n",
    "5 Model Evaluation and Refinement\n",
    "\n",
    "    5.01 Model Evaluation\n",
    "    5.02 Overfitting Underfitting and Model Selection\n",
    "    5.03 Ridge Regression\n",
    "    5.04 Grid Search.mp4"
   ]
  },
  {
   "cell_type": "markdown",
   "metadata": {},
   "source": [
    "### 1.01 The Problem\n",
    "Data analysis helps us answer the questions from data, discover information and predict the unknown."
   ]
  },
  {
   "cell_type": "markdown",
   "metadata": {},
   "source": [
    "### 1.02 Understanding the Data\n",
    "First we need to understand what ich feature of the dataset represents"
   ]
  },
  {
   "cell_type": "markdown",
   "metadata": {},
   "source": [
    "### 1.03 Python Packages for Data Science\n",
    "    1. Scientific computong libraries: Pandas (data structures & tools), Numpy (Arrays & Matryces), SciPy (Integral, solving differrential equation, optimisation)\n",
    "    2. Visualization libraries: Matplotlib (plot & graph, most popular), Seaborn(plots: heatmaps, time series, violin plots)\n",
    "    3. Algorithmic libraries (Machine learning tasks from basic to comlex): Scikit-lear (Machine learning: regression, classification...) Statsmodels (Explore data, estimate statistical models and perform statistical tests.)"
   ]
  },
  {
   "cell_type": "markdown",
   "metadata": {},
   "source": [
    "1.04 Importing and Exporting Data in Python"
   ]
  },
  {
   "cell_type": "markdown",
   "metadata": {},
   "source": [
    "1.05 Getting Started Analyzing Data in Python"
   ]
  },
  {
   "cell_type": "code",
   "execution_count": null,
   "metadata": {},
   "outputs": [],
   "source": []
  },
  {
   "cell_type": "code",
   "execution_count": null,
   "metadata": {},
   "outputs": [],
   "source": []
  },
  {
   "cell_type": "code",
   "execution_count": null,
   "metadata": {},
   "outputs": [],
   "source": []
  },
  {
   "cell_type": "code",
   "execution_count": null,
   "metadata": {},
   "outputs": [],
   "source": []
  },
  {
   "cell_type": "code",
   "execution_count": null,
   "metadata": {},
   "outputs": [],
   "source": []
  },
  {
   "cell_type": "code",
   "execution_count": null,
   "metadata": {},
   "outputs": [],
   "source": []
  },
  {
   "cell_type": "code",
   "execution_count": null,
   "metadata": {},
   "outputs": [],
   "source": []
  }
 ],
 "metadata": {
  "kernelspec": {
   "display_name": "Python 3",
   "language": "python",
   "name": "python3"
  },
  "language_info": {
   "codemirror_mode": {
    "name": "ipython",
    "version": 3
   },
   "file_extension": ".py",
   "mimetype": "text/x-python",
   "name": "python",
   "nbconvert_exporter": "python",
   "pygments_lexer": "ipython3",
   "version": "3.6.4"
  }
 },
 "nbformat": 4,
 "nbformat_minor": 2
}
