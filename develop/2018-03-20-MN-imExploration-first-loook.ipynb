{
 "cells": [
  {
   "cell_type": "code",
   "execution_count": 55,
   "metadata": {},
   "outputs": [],
   "source": [
    "%matplotlib inline\n",
    "import numpy as np\n",
    "import matplotlib.pyplot as plt\n",
    "import pandas as pd\n",
    "import seaborn as sns\n",
    "sns.set()"
   ]
  },
  {
   "cell_type": "code",
   "execution_count": 14,
   "metadata": {},
   "outputs": [],
   "source": [
    "df = pd.read_excel(\"../data/coalpublic2016.xls\", header=2, index_col=\"MSHA ID\")"
   ]
  },
  {
   "cell_type": "code",
   "execution_count": 29,
   "metadata": {},
   "outputs": [
    {
     "data": {
      "text/html": [
       "<div>\n",
       "<style scoped>\n",
       "    .dataframe tbody tr th:only-of-type {\n",
       "        vertical-align: middle;\n",
       "    }\n",
       "\n",
       "    .dataframe tbody tr th {\n",
       "        vertical-align: top;\n",
       "    }\n",
       "\n",
       "    .dataframe thead th {\n",
       "        text-align: right;\n",
       "    }\n",
       "</style>\n",
       "<table border=\"1\" class=\"dataframe\">\n",
       "  <thead>\n",
       "    <tr style=\"text-align: right;\">\n",
       "      <th></th>\n",
       "      <th>Year</th>\n",
       "      <th>Mine_Name</th>\n",
       "      <th>Mine_State</th>\n",
       "      <th>Mine_County</th>\n",
       "      <th>Mine_Status</th>\n",
       "      <th>Mine_Type</th>\n",
       "      <th>Company_Type</th>\n",
       "      <th>Operation_Type</th>\n",
       "      <th>Operating_Company</th>\n",
       "      <th>Operating_Company_Address</th>\n",
       "      <th>Union_Code</th>\n",
       "      <th>Coal_Supply_Region</th>\n",
       "      <th>Production_(short_tons)</th>\n",
       "      <th>Average_Employees</th>\n",
       "      <th>Labor_Hours</th>\n",
       "    </tr>\n",
       "    <tr>\n",
       "      <th>MSHA ID</th>\n",
       "      <th></th>\n",
       "      <th></th>\n",
       "      <th></th>\n",
       "      <th></th>\n",
       "      <th></th>\n",
       "      <th></th>\n",
       "      <th></th>\n",
       "      <th></th>\n",
       "      <th></th>\n",
       "      <th></th>\n",
       "      <th></th>\n",
       "      <th></th>\n",
       "      <th></th>\n",
       "      <th></th>\n",
       "      <th></th>\n",
       "    </tr>\n",
       "  </thead>\n",
       "  <tbody>\n",
       "    <tr>\n",
       "      <th>103381</th>\n",
       "      <td>2016</td>\n",
       "      <td>Jesse Creek H.W.M.</td>\n",
       "      <td>Alabama</td>\n",
       "      <td>Bibb</td>\n",
       "      <td>Active</td>\n",
       "      <td>Surface</td>\n",
       "      <td>Independent Producer Operator</td>\n",
       "      <td>Mine only</td>\n",
       "      <td>Jesse Creek Mining, Llc</td>\n",
       "      <td>1615 Kent Dairy Rd, Alabaster, AL 35007</td>\n",
       "      <td>NaN</td>\n",
       "      <td>Appalachia Southern</td>\n",
       "      <td>37786</td>\n",
       "      <td>6</td>\n",
       "      <td>14235</td>\n",
       "    </tr>\n",
       "    <tr>\n",
       "      <th>103246</th>\n",
       "      <td>2016</td>\n",
       "      <td>Bear Creek</td>\n",
       "      <td>Alabama</td>\n",
       "      <td>Franklin</td>\n",
       "      <td>Active</td>\n",
       "      <td>Surface</td>\n",
       "      <td>Independent Producer Operator</td>\n",
       "      <td>Mine only</td>\n",
       "      <td>Yellowhammer Energy Solutions,</td>\n",
       "      <td>912 Edenton Street, Birmingham, AL 35242</td>\n",
       "      <td>NaN</td>\n",
       "      <td>Appalachia Southern</td>\n",
       "      <td>43155</td>\n",
       "      <td>21</td>\n",
       "      <td>13278</td>\n",
       "    </tr>\n",
       "    <tr>\n",
       "      <th>103451</th>\n",
       "      <td>2016</td>\n",
       "      <td>Knight Mine</td>\n",
       "      <td>Alabama</td>\n",
       "      <td>Franklin</td>\n",
       "      <td>Temporarily closed</td>\n",
       "      <td>Surface</td>\n",
       "      <td>Independent Producer Operator</td>\n",
       "      <td>Mine only</td>\n",
       "      <td>Birmingham Coal &amp; Coke Co., In</td>\n",
       "      <td>P.O. Box 354, Lynn, AL 35242</td>\n",
       "      <td>NaN</td>\n",
       "      <td>Appalachia Southern</td>\n",
       "      <td>22218</td>\n",
       "      <td>19</td>\n",
       "      <td>11158</td>\n",
       "    </tr>\n",
       "    <tr>\n",
       "      <th>100329</th>\n",
       "      <td>2016</td>\n",
       "      <td>Concord Mine</td>\n",
       "      <td>Alabama</td>\n",
       "      <td>Jefferson</td>\n",
       "      <td>Active</td>\n",
       "      <td>Underground</td>\n",
       "      <td>Operating Subsidiary</td>\n",
       "      <td>Preparation Plant</td>\n",
       "      <td>Oak Grove Resources Llc</td>\n",
       "      <td>8360 Taylors Ferry Rd, Hueytown, AL 35023</td>\n",
       "      <td>United Mine Workers Of America</td>\n",
       "      <td>Appalachia Southern</td>\n",
       "      <td>0</td>\n",
       "      <td>43</td>\n",
       "      <td>93811</td>\n",
       "    </tr>\n",
       "    <tr>\n",
       "      <th>100627</th>\n",
       "      <td>2016</td>\n",
       "      <td>Flat Top Mine</td>\n",
       "      <td>Alabama</td>\n",
       "      <td>Jefferson</td>\n",
       "      <td>Active</td>\n",
       "      <td>Surface</td>\n",
       "      <td>Independent Producer Operator</td>\n",
       "      <td>Mine only</td>\n",
       "      <td>Cedar Lake Mining, Inc</td>\n",
       "      <td>7802 Highway 78, Cordova, AL 35550</td>\n",
       "      <td>NaN</td>\n",
       "      <td>Appalachia Southern</td>\n",
       "      <td>281668</td>\n",
       "      <td>46</td>\n",
       "      <td>126268</td>\n",
       "    </tr>\n",
       "  </tbody>\n",
       "</table>\n",
       "</div>"
      ],
      "text/plain": [
       "         Year           Mine_Name Mine_State Mine_County         Mine_Status  \\\n",
       "MSHA ID                                                                        \n",
       "103381   2016  Jesse Creek H.W.M.    Alabama        Bibb              Active   \n",
       "103246   2016          Bear Creek    Alabama    Franklin              Active   \n",
       "103451   2016         Knight Mine    Alabama    Franklin  Temporarily closed   \n",
       "100329   2016        Concord Mine    Alabama   Jefferson              Active   \n",
       "100627   2016       Flat Top Mine    Alabama   Jefferson              Active   \n",
       "\n",
       "           Mine_Type                   Company_Type     Operation_Type  \\\n",
       "MSHA ID                                                                  \n",
       "103381       Surface  Independent Producer Operator          Mine only   \n",
       "103246       Surface  Independent Producer Operator          Mine only   \n",
       "103451       Surface  Independent Producer Operator          Mine only   \n",
       "100329   Underground           Operating Subsidiary  Preparation Plant   \n",
       "100627       Surface  Independent Producer Operator          Mine only   \n",
       "\n",
       "                      Operating_Company  \\\n",
       "MSHA ID                                   \n",
       "103381          Jesse Creek Mining, Llc   \n",
       "103246   Yellowhammer Energy Solutions,   \n",
       "103451   Birmingham Coal & Coke Co., In   \n",
       "100329          Oak Grove Resources Llc   \n",
       "100627           Cedar Lake Mining, Inc   \n",
       "\n",
       "                         Operating_Company_Address  \\\n",
       "MSHA ID                                              \n",
       "103381     1615 Kent Dairy Rd, Alabaster, AL 35007   \n",
       "103246    912 Edenton Street, Birmingham, AL 35242   \n",
       "103451                P.O. Box 354, Lynn, AL 35242   \n",
       "100329   8360 Taylors Ferry Rd, Hueytown, AL 35023   \n",
       "100627          7802 Highway 78, Cordova, AL 35550   \n",
       "\n",
       "                             Union_Code   Coal_Supply_Region  \\\n",
       "MSHA ID                                                        \n",
       "103381                              NaN  Appalachia Southern   \n",
       "103246                              NaN  Appalachia Southern   \n",
       "103451                              NaN  Appalachia Southern   \n",
       "100329   United Mine Workers Of America  Appalachia Southern   \n",
       "100627                              NaN  Appalachia Southern   \n",
       "\n",
       "         Production_(short_tons)  Average_Employees  Labor_Hours  \n",
       "MSHA ID                                                           \n",
       "103381                     37786                  6        14235  \n",
       "103246                     43155                 21        13278  \n",
       "103451                     22218                 19        11158  \n",
       "100329                         0                 43        93811  \n",
       "100627                    281668                 46       126268  "
      ]
     },
     "execution_count": 29,
     "metadata": {},
     "output_type": "execute_result"
    }
   ],
   "source": [
    "df.head()"
   ]
  },
  {
   "cell_type": "code",
   "execution_count": 24,
   "metadata": {
    "scrolled": false
   },
   "outputs": [
    {
     "data": {
      "text/plain": [
       "array(['Independent Producer Operator', 'Operating Subsidiary',\n",
       "       'Contractor'], dtype=object)"
      ]
     },
     "execution_count": 24,
     "metadata": {},
     "output_type": "execute_result"
    }
   ],
   "source": [
    "df['Company Type'].unique()"
   ]
  },
  {
   "cell_type": "code",
   "execution_count": 26,
   "metadata": {},
   "outputs": [
    {
     "ename": "AttributeError",
     "evalue": "'NoneType' object has no attribute 'head'",
     "output_type": "error",
     "traceback": [
      "\u001b[0;31m---------------------------------------------------------------------------\u001b[0m",
      "\u001b[0;31mAttributeError\u001b[0m                            Traceback (most recent call last)",
      "\u001b[0;32m<ipython-input-26-675f8f1e53b8>\u001b[0m in \u001b[0;36m<module>\u001b[0;34m()\u001b[0m\n\u001b[1;32m      1\u001b[0m df['Company Type'].replace('Indepedent Producer Operator', \n\u001b[0;32m----> 2\u001b[0;31m                            value='Independent Producer Operator', inplace=True).head()\n\u001b[0m",
      "\u001b[0;31mAttributeError\u001b[0m: 'NoneType' object has no attribute 'head'"
     ]
    }
   ],
   "source": [
    "df['Company Type'].replace('Indepedent Producer Operator', \n",
    "                           value='Independent Producer Operator', inplace=True)"
   ]
  },
  {
   "cell_type": "code",
   "execution_count": 27,
   "metadata": {},
   "outputs": [
    {
     "data": {
      "text/plain": [
       "MSHA ID\n",
       "103381    Independent Producer Operator\n",
       "103246    Independent Producer Operator\n",
       "103451    Independent Producer Operator\n",
       "100329             Operating Subsidiary\n",
       "100627    Independent Producer Operator\n",
       "Name: Company Type, dtype: object"
      ]
     },
     "execution_count": 27,
     "metadata": {},
     "output_type": "execute_result"
    }
   ],
   "source": [
    "df['Company Type'].head()"
   ]
  },
  {
   "cell_type": "code",
   "execution_count": 28,
   "metadata": {},
   "outputs": [],
   "source": [
    "#rename the columns, replace all the spaces with underscore\n",
    "df.rename(columns= lambda x: x.replace(\" \", \"_\"), inplace=True)"
   ]
  },
  {
   "cell_type": "code",
   "execution_count": 30,
   "metadata": {},
   "outputs": [
    {
     "data": {
      "text/plain": [
       "993"
      ]
     },
     "execution_count": 30,
     "metadata": {},
     "output_type": "execute_result"
    }
   ],
   "source": [
    "# check the number of lines in the dataframe\n",
    "\n",
    "len(df)"
   ]
  },
  {
   "cell_type": "code",
   "execution_count": 35,
   "metadata": {},
   "outputs": [
    {
     "data": {
      "text/plain": [
       "Text(0,0.5,'Total Hours Worked')"
      ]
     },
     "execution_count": 35,
     "metadata": {},
     "output_type": "execute_result"
    },
    {
     "data": {
      "image/png": "[encoded data removed]",
      "text/plain": [
       "<matplotlib.figure.Figure at 0x7f8edfd948d0>"
      ]
     },
     "metadata": {},
     "output_type": "display_data"
    }
   ],
   "source": [
    "plt.scatter(df.Average_Employees, df.Labor_Hours)\n",
    "plt.xlabel(\"Number of Employees\")\n",
    "plt.ylabel(\"Total Hours Worked\")"
   ]
  },
  {
   "cell_type": "code",
   "execution_count": 37,
   "metadata": {},
   "outputs": [
    {
     "data": {
      "image/png": "[encoded data removed]",
      "text/plain": [
       "<matplotlib.figure.Figure at 0x7f8ee0b99630>"
      ]
     },
     "metadata": {},
     "output_type": "display_data"
    }
   ],
   "source": [
    "sns.regplot(df.Average_Employees, df.Labor_Hours)\n",
    "plt.savefig(\"../figures/2018-03-20\" + \"-employees_vs_hours.png\")"
   ]
  },
  {
   "cell_type": "code",
   "execution_count": 41,
   "metadata": {},
   "outputs": [
    {
     "name": "stdout",
     "output_type": "stream",
     "text": [
      "Year\n",
      "Mine_Name\n",
      "Mine_State\n",
      "Mine_County\n",
      "Mine_Status\n",
      "Mine_Type\n",
      "Company_Type\n",
      "Operation_Type\n",
      "Operating_Company\n",
      "Operating_Company_Address\n",
      "Union_Code\n",
      "Coal_Supply_Region\n",
      "Production_(short_tons)\n",
      "Average_Employees\n",
      "Labor_Hours\n"
     ]
    }
   ],
   "source": [
    "for column in df.columns:\n",
    "    print(column)"
   ]
  },
  {
   "cell_type": "code",
   "execution_count": 51,
   "metadata": {},
   "outputs": [
    {
     "data": {
      "text/plain": [
       "<matplotlib.axes._subplots.AxesSubplot at 0x7f8edf98c860>"
      ]
     },
     "execution_count": 51,
     "metadata": {},
     "output_type": "execute_result"
    },
    {
     "data": {
      "image/png": "[encoded data removed]",
      "text/plain": [
       "<matplotlib.figure.Figure at 0x7f8ee05f2438>"
      ]
     },
     "metadata": {},
     "output_type": "display_data"
    }
   ],
   "source": [
    "df['Production_(short_tons)'].hist()"
   ]
  },
  {
   "cell_type": "code",
   "execution_count": 52,
   "metadata": {
    "scrolled": true
   },
   "outputs": [],
   "source": [
    "# we are removing data here\n",
    "df = df[df['Production_(short_tons)']>0]"
   ]
  },
  {
   "cell_type": "code",
   "execution_count": 56,
   "metadata": {},
   "outputs": [],
   "source": [
    "df['log_production'] = np.log(df['Production_(short_tons)'])"
   ]
  },
  {
   "cell_type": "code",
   "execution_count": 57,
   "metadata": {},
   "outputs": [
    {
     "data": {
      "text/plain": [
       "710"
      ]
     },
     "execution_count": 57,
     "metadata": {},
     "output_type": "execute_result"
    },
    {
     "data": {
      "image/png": "[encoded data removed]",
      "text/plain": [
       "<matplotlib.figure.Figure at 0x7f8ee0d0f6d8>"
      ]
     },
     "metadata": {},
     "output_type": "display_data"
    }
   ],
   "source": [
    "df['log_production'].hist()\n",
    "len(df)"
   ]
  },
  {
   "cell_type": "code",
   "execution_count": 58,
   "metadata": {},
   "outputs": [],
   "source": [
    "df.to_csv(\"../data/clean_coalpublic2016.csv\")"
   ]
  },
  {
   "cell_type": "code",
   "execution_count": null,
   "metadata": {},
   "outputs": [],
   "source": []
  }
 ],
 "metadata": {
  "kernelspec": {
   "display_name": "Python 3",
   "language": "python",
   "name": "python3"
  },
  "language_info": {
   "codemirror_mode": {
    "name": "ipython",
    "version": 3
   },
   "file_extension": ".py",
   "mimetype": "text/x-python",
   "name": "python",
   "nbconvert_exporter": "python",
   "pygments_lexer": "ipython3",
   "version": "3.6.4"
  }
 },
 "nbformat": 4,
 "nbformat_minor": 2
}
