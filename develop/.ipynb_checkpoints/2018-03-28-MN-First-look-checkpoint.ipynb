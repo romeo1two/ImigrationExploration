{
 "cells": [
  {
   "cell_type": "code",
   "execution_count": null,
   "metadata": {},
   "outputs": [],
   "source": [
    "Module_1_Video_1_Introduction_to_Data_Visualization.mp4\n",
    "Module_1_Video_1_Introduction_to_Data_Visualization.srt\n",
    "Module_1_Video_2_Introduction_to_Matplotlib.mp4\n",
    "Module_1_Video_2_Introduction_to_Matplotlib.srt\n",
    "Module_1_Video_3_Basic_Plotting_with_Matplotlib.mp4\n",
    "Module_1_Video_3_Basic_Plotting_with_Matplotlib.srt\n",
    "Module_1_Video_4_Dataset_on_Immigration_to_Canada.mp4\n",
    "Module_1_Video_4_Dataset_on_Immigration_to_Canada.srt\n",
    "Module_1_Video_5_Line_Plots.mp4\n",
    "Module_1_Video_5_Line_Plots.srt\n",
    "Module_2_Video_1_Area_Plots.mp4\n",
    "Module_2_Video_1_Area_Plots.srt\n",
    "Module_2_Video_2_Histograms.mp4\n",
    "Module_2_Video_2_Histograms.srt\n",
    "Module_2_Video_3_Bar_Charts.mp4\n",
    "Module_2_Video_3_Bar_Charts.srt\n",
    "Module_3_Video_1_Pie_Charts.mp4\n",
    "Module_3_Video_1_Pie_Charts.srt\n",
    "Module_3_Video_2_Boxplots.mp4\n",
    "Module_3_Video_2_Boxplots.srt\n",
    "Module_3_Video_3_Scatter_Plots.mp4\n",
    "Module_3_Video_3_Scatter_Plots.srt\n",
    "Module_4_Video_1_Waffle_Charts.mp4\n",
    "Module_4_Video_1_Waffle_Charts.srt\n",
    "Module_4_Video_2_Word_Clouds.mp4\n",
    "Module_4_Video_2_Word_Clouds.srt\n",
    "Module_4_Video_3_Seaborn_Regression_Plots.mp4\n",
    "Module_4_Video_3_Seaborn_Regression_Plots.srt\n",
    "Module_5_Video_1_Introduction_to_Folium.mp4\n",
    "Module_5_Video_1_Introduction_to_Folium.srt\n",
    "Module_5_Video_2_Maps_with_Markers.mp4\n",
    "Module_5_Video_2_Maps_with_Markers.srt\n",
    "Module_5_Video_3_Choropleth_Maps.mp4\n",
    "Module_5_Video_3_Choropleth_Maps.srt\n"
   ]
  }
 ],
 "metadata": {
  "kernelspec": {
   "display_name": "Python 3",
   "language": "python",
   "name": "python3"
  },
  "language_info": {
   "codemirror_mode": {
    "name": "ipython",
    "version": 3
   },
   "file_extension": ".py",
   "mimetype": "text/x-python",
   "name": "python",
   "nbconvert_exporter": "python",
   "pygments_lexer": "ipython3",
   "version": "3.6.4"
  }
 },
 "nbformat": 4,
 "nbformat_minor": 2
}
