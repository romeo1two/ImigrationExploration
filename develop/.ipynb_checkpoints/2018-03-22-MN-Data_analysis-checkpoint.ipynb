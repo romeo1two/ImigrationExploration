{
 "cells": [
  {
   "cell_type": "markdown",
   "metadata": {},
   "source": [
    "# Data analysis with Python"
   ]
  },
  {
   "cell_type": "markdown",
   "metadata": {},
   "source": [
    "## Content:"
   ]
  },
  {
   "cell_type": "markdown",
   "metadata": {},
   "source": [
    "1.01 Introduction to Data Analysis with Python\n",
    "1.02 The Problem\n",
    "1.03 Understanding the Data\n",
    "1.04 Python Packages for Data Science\n",
    "1.05 Importing and Exporting Data in Python\n",
    "1.06 Getting Started Analyzing Data in Python\n",
    "2.01 Pre-processing Data in Python\n",
    "2.02 Dealing with Missing Values in Python\n",
    "2.03 Data Formatting in Python\n",
    "2.04 Data Normalization in Python\n",
    "2.05 Binning in Python\n",
    "2.06 Indicator variables in Python\n",
    "3.01 Exploratory Data Analysis\n",
    "3.02 Descriptive Statistics\n",
    "3.03 GroupBy in Python\n",
    "3.04 Analysis of Variance (ANOVA)\n",
    "3.05 Correlation\n",
    "3.06 Correlation - Statistics\n",
    "4.01 Linear Regression and Multiple Linear Regression\n",
    "4.02 Model Evaluation using Visualization\n",
    "4.03 Polynomial Regression and Pipelines\n",
    "4.04 Measures for In-Sample Evaluation\n",
    "4.05 Prediction and Decision Making\n",
    "5.01 Model Evaluation and Refinement\n",
    "5.02 Model Evaluation\n",
    "5.03 Overfitting Underfitting and Model Selection\n",
    "5.04 Ridge Regression\n",
    "5.05 Grid Search.mp4"
   ]
  },
  {
   "cell_type": "markdown",
   "metadata": {},
   "source": [
    "## 1.01 Introduction to Data Analysis with Python\n"
   ]
  },
  {
   "cell_type": "code",
   "execution_count": null,
   "metadata": {},
   "outputs": [],
   "source": []
  }
 ],
 "metadata": {
  "kernelspec": {
   "display_name": "Python 3",
   "language": "python",
   "name": "python3"
  },
  "language_info": {
   "codemirror_mode": {
    "name": "ipython",
    "version": 3
   },
   "file_extension": ".py",
   "mimetype": "text/x-python",
   "name": "python",
   "nbconvert_exporter": "python",
   "pygments_lexer": "ipython3",
   "version": "3.6.4"
  }
 },
 "nbformat": 4,
 "nbformat_minor": 2
}
