{
 "cells": [
  {
   "cell_type": "markdown",
   "metadata": {},
   "source": [
    "# Content\n",
    "\n",
    "    1.1 Introduction to Data Visualization\n",
    "    1.2 Introduction to Matplotlib\n",
    "    1.3 Basic Plotting with Matplotlib\n",
    "    1.4 Dataset on Immigration to Canada\n",
    "    1.5 Line Plots\n",
    "    2.1 Area Plots\n",
    "    2.2 Histograms\n",
    "    2.3 Bar Charts\n",
    "    3.1 Pie Charts\n",
    "    3.2 Boxplots\n",
    "    3.3 Scatter Plots\n",
    "    4.1 Waffle Charts\n",
    "    4.2 Word Clouds\n",
    "    4.3 Seaborn Regression Plots\n",
    "    5.1 Introduction to Folium\n",
    "    5.2 Maps with Markers\n",
    "    5.3 Choropleth Maps"
   ]
  },
  {
   "cell_type": "markdown",
   "metadata": {},
   "source": [
    "## 2.1 Area Plots\n",
    "Commonly used to represent cumulated totals using numbers or percentages over time. Its based on the line plot. Area plot also known as area chart or area graph. And its commonly used when trying to compare to or more quantities"
   ]
  },
  {
   "cell_type": "code",
   "execution_count": 100,
   "metadata": {},
   "outputs": [],
   "source": [
    "df_usa.index.names = ['Country']"
   ]
  },
  {
   "cell_type": "code",
   "execution_count": 106,
   "metadata": {},
   "outputs": [],
   "source": [
    "# in order to process data we need to prepare it, by replacing D and - with 0\n",
    "df_usa.replace('D', 0, inplace=True)\n",
    "df_usa.replace('-', 0, inplace=True)\n",
    "df_usa.replace('X', 0, inplace=True)\n",
    "df_usa.replace('', 0, inplace=True)\n",
    "df_usa.to_excel('../data/new.xls')"
   ]
  },
  {
   "cell_type": "code",
   "execution_count": 107,
   "metadata": {},
   "outputs": [],
   "source": [
    "# lets add the new 'Total' column, that summs up the total immmigration by country\n",
    "df_usa['Total'] = df_usa.sum(axis=1)"
   ]
  },
  {
   "cell_type": "code",
   "execution_count": 108,
   "metadata": {},
   "outputs": [
    {
     "data": {
      "text/html": [
       "<div>\n",
       "<style scoped>\n",
       "    .dataframe tbody tr th:only-of-type {\n",
       "        vertical-align: middle;\n",
       "    }\n",
       "\n",
       "    .dataframe tbody tr th {\n",
       "        vertical-align: top;\n",
       "    }\n",
       "\n",
       "    .dataframe thead th {\n",
       "        text-align: right;\n",
       "    }\n",
       "</style>\n",
       "<table border=\"1\" class=\"dataframe\">\n",
       "  <thead>\n",
       "    <tr style=\"text-align: right;\">\n",
       "      <th></th>\n",
       "      <th>2007</th>\n",
       "      <th>2008</th>\n",
       "      <th>2009</th>\n",
       "      <th>2010</th>\n",
       "      <th>2011</th>\n",
       "      <th>2012</th>\n",
       "      <th>2013</th>\n",
       "      <th>2014</th>\n",
       "      <th>2015</th>\n",
       "      <th>2016</th>\n",
       "      <th>Total</th>\n",
       "    </tr>\n",
       "    <tr>\n",
       "      <th>Country</th>\n",
       "      <th></th>\n",
       "      <th></th>\n",
       "      <th></th>\n",
       "      <th></th>\n",
       "      <th></th>\n",
       "      <th></th>\n",
       "      <th></th>\n",
       "      <th></th>\n",
       "      <th></th>\n",
       "      <th></th>\n",
       "      <th></th>\n",
       "    </tr>\n",
       "  </thead>\n",
       "  <tbody>\n",
       "    <tr>\n",
       "      <th>Mexico</th>\n",
       "      <td>148640.0</td>\n",
       "      <td>189989.0</td>\n",
       "      <td>164920</td>\n",
       "      <td>139120</td>\n",
       "      <td>143446</td>\n",
       "      <td>146406</td>\n",
       "      <td>135028</td>\n",
       "      <td>134052</td>\n",
       "      <td>158619</td>\n",
       "      <td>174534</td>\n",
       "      <td>3069508.0</td>\n",
       "    </tr>\n",
       "    <tr>\n",
       "      <th>China, People's Republic</th>\n",
       "      <td>76655.0</td>\n",
       "      <td>80271.0</td>\n",
       "      <td>64238</td>\n",
       "      <td>70863</td>\n",
       "      <td>87016</td>\n",
       "      <td>81784</td>\n",
       "      <td>71798</td>\n",
       "      <td>76089</td>\n",
       "      <td>74558</td>\n",
       "      <td>81772</td>\n",
       "      <td>1530088.0</td>\n",
       "    </tr>\n",
       "    <tr>\n",
       "      <th>India</th>\n",
       "      <td>65353.0</td>\n",
       "      <td>63352.0</td>\n",
       "      <td>57304</td>\n",
       "      <td>69162</td>\n",
       "      <td>69013</td>\n",
       "      <td>66434</td>\n",
       "      <td>68458</td>\n",
       "      <td>77908</td>\n",
       "      <td>64116</td>\n",
       "      <td>64687</td>\n",
       "      <td>1331574.0</td>\n",
       "    </tr>\n",
       "    <tr>\n",
       "      <th>Philippines</th>\n",
       "      <td>72596.0</td>\n",
       "      <td>54030.0</td>\n",
       "      <td>60029</td>\n",
       "      <td>58173</td>\n",
       "      <td>57011</td>\n",
       "      <td>57327</td>\n",
       "      <td>54446</td>\n",
       "      <td>49996</td>\n",
       "      <td>56478</td>\n",
       "      <td>53287</td>\n",
       "      <td>1146746.0</td>\n",
       "    </tr>\n",
       "    <tr>\n",
       "      <th>Dominican Republic</th>\n",
       "      <td>28024.0</td>\n",
       "      <td>31879.0</td>\n",
       "      <td>49414</td>\n",
       "      <td>53870</td>\n",
       "      <td>46109</td>\n",
       "      <td>41566</td>\n",
       "      <td>41311</td>\n",
       "      <td>44577</td>\n",
       "      <td>50610</td>\n",
       "      <td>61161</td>\n",
       "      <td>897042.0</td>\n",
       "    </tr>\n",
       "  </tbody>\n",
       "</table>\n",
       "</div>"
      ],
      "text/plain": [
       "                              2007      2008    2009    2010    2011    2012  \\\n",
       "Country                                                                        \n",
       "Mexico                    148640.0  189989.0  164920  139120  143446  146406   \n",
       "China, People's Republic   76655.0   80271.0   64238   70863   87016   81784   \n",
       "India                      65353.0   63352.0   57304   69162   69013   66434   \n",
       "Philippines                72596.0   54030.0   60029   58173   57011   57327   \n",
       "Dominican Republic         28024.0   31879.0   49414   53870   46109   41566   \n",
       "\n",
       "                            2013    2014    2015    2016      Total  \n",
       "Country                                                              \n",
       "Mexico                    135028  134052  158619  174534  3069508.0  \n",
       "China, People's Republic   71798   76089   74558   81772  1530088.0  \n",
       "India                      68458   77908   64116   64687  1331574.0  \n",
       "Philippines                54446   49996   56478   53287  1146746.0  \n",
       "Dominican Republic         41311   44577   50610   61161   897042.0  "
      ]
     },
     "execution_count": 108,
     "metadata": {},
     "output_type": "execute_result"
    }
   ],
   "source": [
    "# lets sort the values by 'Total' column\n",
    "df_usa.sort_values(['Total'], ascending=False, axis=0, inplace=True)\n",
    "df_usa.head()"
   ]
  },
  {
   "cell_type": "code",
   "execution_count": 109,
   "metadata": {},
   "outputs": [
    {
     "data": {
      "text/html": [
       "<div>\n",
       "<style scoped>\n",
       "    .dataframe tbody tr th:only-of-type {\n",
       "        vertical-align: middle;\n",
       "    }\n",
       "\n",
       "    .dataframe tbody tr th {\n",
       "        vertical-align: top;\n",
       "    }\n",
       "\n",
       "    .dataframe thead th {\n",
       "        text-align: right;\n",
       "    }\n",
       "</style>\n",
       "<table border=\"1\" class=\"dataframe\">\n",
       "  <thead>\n",
       "    <tr style=\"text-align: right;\">\n",
       "      <th></th>\n",
       "      <th>2007</th>\n",
       "      <th>2008</th>\n",
       "      <th>2009</th>\n",
       "      <th>2010</th>\n",
       "      <th>2011</th>\n",
       "      <th>2012</th>\n",
       "      <th>2013</th>\n",
       "      <th>2014</th>\n",
       "      <th>2015</th>\n",
       "      <th>2016</th>\n",
       "      <th>Total</th>\n",
       "    </tr>\n",
       "  </thead>\n",
       "  <tbody>\n",
       "    <tr>\n",
       "      <th>count</th>\n",
       "      <td>207.000000</td>\n",
       "      <td>207.000000</td>\n",
       "      <td>208.000000</td>\n",
       "      <td>208.000000</td>\n",
       "      <td>208.000000</td>\n",
       "      <td>208.000000</td>\n",
       "      <td>208.000000</td>\n",
       "      <td>208.000000</td>\n",
       "      <td>208.000000</td>\n",
       "      <td>208.000000</td>\n",
       "      <td>2.080000e+02</td>\n",
       "    </tr>\n",
       "    <tr>\n",
       "      <th>mean</th>\n",
       "      <td>5084.130435</td>\n",
       "      <td>5348.410628</td>\n",
       "      <td>5436.600962</td>\n",
       "      <td>5012.620192</td>\n",
       "      <td>5105.937500</td>\n",
       "      <td>4959.745192</td>\n",
       "      <td>4762.254808</td>\n",
       "      <td>4887.105769</td>\n",
       "      <td>5053.009615</td>\n",
       "      <td>5689.927885</td>\n",
       "      <td>1.025792e+05</td>\n",
       "    </tr>\n",
       "    <tr>\n",
       "      <th>std</th>\n",
       "      <td>14245.285218</td>\n",
       "      <td>16343.608144</td>\n",
       "      <td>14725.629670</td>\n",
       "      <td>13643.735707</td>\n",
       "      <td>14196.292772</td>\n",
       "      <td>13966.771054</td>\n",
       "      <td>13067.312602</td>\n",
       "      <td>13522.903335</td>\n",
       "      <td>14677.954970</td>\n",
       "      <td>16234.259765</td>\n",
       "      <td>2.868894e+05</td>\n",
       "    </tr>\n",
       "    <tr>\n",
       "      <th>min</th>\n",
       "      <td>0.000000</td>\n",
       "      <td>0.000000</td>\n",
       "      <td>0.000000</td>\n",
       "      <td>0.000000</td>\n",
       "      <td>0.000000</td>\n",
       "      <td>0.000000</td>\n",
       "      <td>0.000000</td>\n",
       "      <td>0.000000</td>\n",
       "      <td>0.000000</td>\n",
       "      <td>0.000000</td>\n",
       "      <td>6.800000e+01</td>\n",
       "    </tr>\n",
       "    <tr>\n",
       "      <th>25%</th>\n",
       "      <td>135.000000</td>\n",
       "      <td>137.000000</td>\n",
       "      <td>155.000000</td>\n",
       "      <td>146.750000</td>\n",
       "      <td>192.500000</td>\n",
       "      <td>180.000000</td>\n",
       "      <td>173.250000</td>\n",
       "      <td>170.750000</td>\n",
       "      <td>185.500000</td>\n",
       "      <td>202.000000</td>\n",
       "      <td>3.531000e+03</td>\n",
       "    </tr>\n",
       "    <tr>\n",
       "      <th>50%</th>\n",
       "      <td>1036.000000</td>\n",
       "      <td>967.000000</td>\n",
       "      <td>1096.500000</td>\n",
       "      <td>966.500000</td>\n",
       "      <td>964.000000</td>\n",
       "      <td>916.500000</td>\n",
       "      <td>919.500000</td>\n",
       "      <td>825.000000</td>\n",
       "      <td>858.000000</td>\n",
       "      <td>989.000000</td>\n",
       "      <td>2.047100e+04</td>\n",
       "    </tr>\n",
       "    <tr>\n",
       "      <th>75%</th>\n",
       "      <td>3841.000000</td>\n",
       "      <td>3853.500000</td>\n",
       "      <td>4173.250000</td>\n",
       "      <td>3940.000000</td>\n",
       "      <td>3661.500000</td>\n",
       "      <td>3674.750000</td>\n",
       "      <td>3343.500000</td>\n",
       "      <td>3810.750000</td>\n",
       "      <td>3746.250000</td>\n",
       "      <td>4160.750000</td>\n",
       "      <td>8.318100e+04</td>\n",
       "    </tr>\n",
       "    <tr>\n",
       "      <th>max</th>\n",
       "      <td>148640.000000</td>\n",
       "      <td>189989.000000</td>\n",
       "      <td>164920.000000</td>\n",
       "      <td>139120.000000</td>\n",
       "      <td>143446.000000</td>\n",
       "      <td>146406.000000</td>\n",
       "      <td>135028.000000</td>\n",
       "      <td>134052.000000</td>\n",
       "      <td>158619.000000</td>\n",
       "      <td>174534.000000</td>\n",
       "      <td>3.069508e+06</td>\n",
       "    </tr>\n",
       "  </tbody>\n",
       "</table>\n",
       "</div>"
      ],
      "text/plain": [
       "                2007           2008           2009           2010  \\\n",
       "count     207.000000     207.000000     208.000000     208.000000   \n",
       "mean     5084.130435    5348.410628    5436.600962    5012.620192   \n",
       "std     14245.285218   16343.608144   14725.629670   13643.735707   \n",
       "min         0.000000       0.000000       0.000000       0.000000   \n",
       "25%       135.000000     137.000000     155.000000     146.750000   \n",
       "50%      1036.000000     967.000000    1096.500000     966.500000   \n",
       "75%      3841.000000    3853.500000    4173.250000    3940.000000   \n",
       "max    148640.000000  189989.000000  164920.000000  139120.000000   \n",
       "\n",
       "                2011           2012           2013           2014  \\\n",
       "count     208.000000     208.000000     208.000000     208.000000   \n",
       "mean     5105.937500    4959.745192    4762.254808    4887.105769   \n",
       "std     14196.292772   13966.771054   13067.312602   13522.903335   \n",
       "min         0.000000       0.000000       0.000000       0.000000   \n",
       "25%       192.500000     180.000000     173.250000     170.750000   \n",
       "50%       964.000000     916.500000     919.500000     825.000000   \n",
       "75%      3661.500000    3674.750000    3343.500000    3810.750000   \n",
       "max    143446.000000  146406.000000  135028.000000  134052.000000   \n",
       "\n",
       "                2015           2016         Total  \n",
       "count     208.000000     208.000000  2.080000e+02  \n",
       "mean     5053.009615    5689.927885  1.025792e+05  \n",
       "std     14677.954970   16234.259765  2.868894e+05  \n",
       "min         0.000000       0.000000  6.800000e+01  \n",
       "25%       185.500000     202.000000  3.531000e+03  \n",
       "50%       858.000000     989.000000  2.047100e+04  \n",
       "75%      3746.250000    4160.750000  8.318100e+04  \n",
       "max    158619.000000  174534.000000  3.069508e+06  "
      ]
     },
     "execution_count": 109,
     "metadata": {},
     "output_type": "execute_result"
    }
   ],
   "source": [
    "df_usa.describe()"
   ]
  },
  {
   "cell_type": "code",
   "execution_count": 128,
   "metadata": {},
   "outputs": [
    {
     "data": {
      "text/html": [
       "<div>\n",
       "<style scoped>\n",
       "    .dataframe tbody tr th:only-of-type {\n",
       "        vertical-align: middle;\n",
       "    }\n",
       "\n",
       "    .dataframe tbody tr th {\n",
       "        vertical-align: top;\n",
       "    }\n",
       "\n",
       "    .dataframe thead th {\n",
       "        text-align: right;\n",
       "    }\n",
       "</style>\n",
       "<table border=\"1\" class=\"dataframe\">\n",
       "  <thead>\n",
       "    <tr style=\"text-align: right;\">\n",
       "      <th>Country</th>\n",
       "      <th>Mexico</th>\n",
       "      <th>China, People's Republic</th>\n",
       "      <th>India</th>\n",
       "      <th>Philippines</th>\n",
       "      <th>Dominican Republic</th>\n",
       "    </tr>\n",
       "  </thead>\n",
       "  <tbody>\n",
       "    <tr>\n",
       "      <th>2007</th>\n",
       "      <td>148640.0</td>\n",
       "      <td>76655.0</td>\n",
       "      <td>65353.0</td>\n",
       "      <td>72596.0</td>\n",
       "      <td>28024.0</td>\n",
       "    </tr>\n",
       "    <tr>\n",
       "      <th>2008</th>\n",
       "      <td>189989.0</td>\n",
       "      <td>80271.0</td>\n",
       "      <td>63352.0</td>\n",
       "      <td>54030.0</td>\n",
       "      <td>31879.0</td>\n",
       "    </tr>\n",
       "    <tr>\n",
       "      <th>2009</th>\n",
       "      <td>164920.0</td>\n",
       "      <td>64238.0</td>\n",
       "      <td>57304.0</td>\n",
       "      <td>60029.0</td>\n",
       "      <td>49414.0</td>\n",
       "    </tr>\n",
       "    <tr>\n",
       "      <th>2010</th>\n",
       "      <td>139120.0</td>\n",
       "      <td>70863.0</td>\n",
       "      <td>69162.0</td>\n",
       "      <td>58173.0</td>\n",
       "      <td>53870.0</td>\n",
       "    </tr>\n",
       "    <tr>\n",
       "      <th>2011</th>\n",
       "      <td>143446.0</td>\n",
       "      <td>87016.0</td>\n",
       "      <td>69013.0</td>\n",
       "      <td>57011.0</td>\n",
       "      <td>46109.0</td>\n",
       "    </tr>\n",
       "    <tr>\n",
       "      <th>2012</th>\n",
       "      <td>146406.0</td>\n",
       "      <td>81784.0</td>\n",
       "      <td>66434.0</td>\n",
       "      <td>57327.0</td>\n",
       "      <td>41566.0</td>\n",
       "    </tr>\n",
       "    <tr>\n",
       "      <th>2013</th>\n",
       "      <td>135028.0</td>\n",
       "      <td>71798.0</td>\n",
       "      <td>68458.0</td>\n",
       "      <td>54446.0</td>\n",
       "      <td>41311.0</td>\n",
       "    </tr>\n",
       "    <tr>\n",
       "      <th>2014</th>\n",
       "      <td>134052.0</td>\n",
       "      <td>76089.0</td>\n",
       "      <td>77908.0</td>\n",
       "      <td>49996.0</td>\n",
       "      <td>44577.0</td>\n",
       "    </tr>\n",
       "    <tr>\n",
       "      <th>2015</th>\n",
       "      <td>158619.0</td>\n",
       "      <td>74558.0</td>\n",
       "      <td>64116.0</td>\n",
       "      <td>56478.0</td>\n",
       "      <td>50610.0</td>\n",
       "    </tr>\n",
       "    <tr>\n",
       "      <th>2016</th>\n",
       "      <td>174534.0</td>\n",
       "      <td>81772.0</td>\n",
       "      <td>64687.0</td>\n",
       "      <td>53287.0</td>\n",
       "      <td>61161.0</td>\n",
       "    </tr>\n",
       "  </tbody>\n",
       "</table>\n",
       "</div>"
      ],
      "text/plain": [
       "Country    Mexico  China, People's Republic    India  Philippines  \\\n",
       "2007     148640.0                   76655.0  65353.0      72596.0   \n",
       "2008     189989.0                   80271.0  63352.0      54030.0   \n",
       "2009     164920.0                   64238.0  57304.0      60029.0   \n",
       "2010     139120.0                   70863.0  69162.0      58173.0   \n",
       "2011     143446.0                   87016.0  69013.0      57011.0   \n",
       "2012     146406.0                   81784.0  66434.0      57327.0   \n",
       "2013     135028.0                   71798.0  68458.0      54446.0   \n",
       "2014     134052.0                   76089.0  77908.0      49996.0   \n",
       "2015     158619.0                   74558.0  64116.0      56478.0   \n",
       "2016     174534.0                   81772.0  64687.0      53287.0   \n",
       "\n",
       "Country  Dominican Republic  \n",
       "2007                28024.0  \n",
       "2008                31879.0  \n",
       "2009                49414.0  \n",
       "2010                53870.0  \n",
       "2011                46109.0  \n",
       "2012                41566.0  \n",
       "2013                41311.0  \n",
       "2014                44577.0  \n",
       "2015                50610.0  \n",
       "2016                61161.0  "
      ]
     },
     "execution_count": 128,
     "metadata": {},
     "output_type": "execute_result"
    }
   ],
   "source": [
    "# next we need to create a new dataframe of only top 5 countries, and we need to exclude the 'Total' column\n",
    "# transpose() - more importantly we need the years to be plotted on the horizontal axis and\n",
    "# countries to be lpotted on vertical axis\n",
    "df_top5 = df_usa.head(5)\n",
    "years = list(map(int, range(2007, 2017)))\n",
    "df_top5 = df_top5[years].transpose()\n",
    "df_top5"
   ]
  },
  {
   "cell_type": "code",
   "execution_count": 140,
   "metadata": {},
   "outputs": [
    {
     "data": {
      "image/png": "[encoded data removed]",
      "text/plain": [
       "<matplotlib.figure.Figure at 0x7f15709435f8>"
      ]
     },
     "metadata": {},
     "output_type": "display_data"
    }
   ],
   "source": [
    "df_top5.plot(kind='area')\n",
    "# other kind: bar - for vertical bar plots; barh - for horizontal bar plots; hist - for histogram\n",
    "# box - for boxplot; kde - or density - for density plots; area - for area plots; pie - for pie plots\n",
    "# scatter - for scatter plots; hexbin - for hexbin plot\n",
    "\n",
    "plt.title('Immigration trend of top 5 countries')\n",
    "plt.ylabel('Number of immigrants')\n",
    "plt.xlabel('Year')\n",
    "\n",
    "plt.show()"
   ]
  },
  {
   "cell_type": "markdown",
   "metadata": {},
   "source": [
    "## 2.2 Histograms\n",
    "\n",
    "A Histogram is a way of representing the frequancy distributionf of a variable."
   ]
  },
  {
   "cell_type": "code",
   "execution_count": 153,
   "metadata": {},
   "outputs": [
    {
     "data": {
      "image/png": "[encoded data removed]",
      "text/plain": [
       "<matplotlib.figure.Figure at 0x7f15707229e8>"
      ]
     },
     "metadata": {},
     "output_type": "display_data"
    }
   ],
   "source": [
    "df_usa[2016].plot(kind='hist')\n",
    "# other kind: bar - for vertical bar plots; barh - for horizontal bar plots; hist - for histogram\n",
    "# box - for boxplot; kde - or density - for density plots; area - for area plots; pie - for pie plots\n",
    "# scatter - for scatter plots; hexbin - for hexbin plot\n",
    "\n",
    "plt.title('Immigration from ALL countries in 2016')\n",
    "plt.ylabel('Number of countries')\n",
    "plt.xlabel('Number of immigrants')\n",
    "\n",
    "plt.show()"
   ]
  },
  {
   "cell_type": "markdown",
   "metadata": {},
   "source": [
    "## 2.3 Bar Charts"
   ]
  },
  {
   "cell_type": "code",
   "execution_count": null,
   "metadata": {},
   "outputs": [],
   "source": []
  },
  {
   "cell_type": "markdown",
   "metadata": {},
   "source": [
    "## 3.1 Pie Charts"
   ]
  },
  {
   "cell_type": "code",
   "execution_count": null,
   "metadata": {},
   "outputs": [],
   "source": []
  },
  {
   "cell_type": "markdown",
   "metadata": {},
   "source": [
    "## 3.2 Boxplots"
   ]
  },
  {
   "cell_type": "code",
   "execution_count": null,
   "metadata": {},
   "outputs": [],
   "source": []
  },
  {
   "cell_type": "markdown",
   "metadata": {},
   "source": [
    "## 3.3 Scatter Plots"
   ]
  },
  {
   "cell_type": "code",
   "execution_count": null,
   "metadata": {},
   "outputs": [],
   "source": []
  },
  {
   "cell_type": "markdown",
   "metadata": {},
   "source": [
    "## 4.1 Waffle Charts"
   ]
  },
  {
   "cell_type": "code",
   "execution_count": null,
   "metadata": {},
   "outputs": [],
   "source": []
  },
  {
   "cell_type": "markdown",
   "metadata": {},
   "source": [
    "## 4.2 Word Clouds"
   ]
  },
  {
   "cell_type": "code",
   "execution_count": null,
   "metadata": {},
   "outputs": [],
   "source": []
  },
  {
   "cell_type": "markdown",
   "metadata": {},
   "source": [
    "## 4.3 Seaborn Regression Plots"
   ]
  },
  {
   "cell_type": "code",
   "execution_count": null,
   "metadata": {},
   "outputs": [],
   "source": []
  },
  {
   "cell_type": "markdown",
   "metadata": {},
   "source": [
    "## 5.1 Introduction to Folium"
   ]
  },
  {
   "cell_type": "code",
   "execution_count": null,
   "metadata": {},
   "outputs": [],
   "source": []
  },
  {
   "cell_type": "markdown",
   "metadata": {},
   "source": [
    "## 5.2 Maps with Markers"
   ]
  },
  {
   "cell_type": "code",
   "execution_count": null,
   "metadata": {},
   "outputs": [],
   "source": []
  },
  {
   "cell_type": "markdown",
   "metadata": {},
   "source": [
    "## 5.3 Choropleth Maps"
   ]
  },
  {
   "cell_type": "code",
   "execution_count": null,
   "metadata": {},
   "outputs": [],
   "source": []
  },
  {
   "cell_type": "code",
   "execution_count": null,
   "metadata": {},
   "outputs": [],
   "source": []
  },
  {
   "cell_type": "code",
   "execution_count": null,
   "metadata": {},
   "outputs": [],
   "source": []
  },
  {
   "cell_type": "code",
   "execution_count": null,
   "metadata": {},
   "outputs": [],
   "source": []
  },
  {
   "cell_type": "code",
   "execution_count": null,
   "metadata": {},
   "outputs": [],
   "source": []
  },
  {
   "cell_type": "code",
   "execution_count": null,
   "metadata": {},
   "outputs": [],
   "source": []
  },
  {
   "cell_type": "code",
   "execution_count": null,
   "metadata": {},
   "outputs": [],
   "source": []
  },
  {
   "cell_type": "code",
   "execution_count": null,
   "metadata": {},
   "outputs": [],
   "source": []
  },
  {
   "cell_type": "code",
   "execution_count": null,
   "metadata": {},
   "outputs": [],
   "source": []
  },
  {
   "cell_type": "code",
   "execution_count": null,
   "metadata": {},
   "outputs": [],
   "source": []
  }
 ],
 "metadata": {
  "kernelspec": {
   "display_name": "Python 3",
   "language": "python",
   "name": "python3"
  },
  "language_info": {
   "codemirror_mode": {
    "name": "ipython",
    "version": 3
   },
   "file_extension": ".py",
   "mimetype": "text/x-python",
   "name": "python",
   "nbconvert_exporter": "python",
   "pygments_lexer": "ipython3",
   "version": "3.6.4"
  }
 },
 "nbformat": 4,
 "nbformat_minor": 2
}
